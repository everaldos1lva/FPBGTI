{
  "nbformat": 4,
  "nbformat_minor": 0,
  "metadata": {
    "colab": {
      "provenance": [],
      "authorship_tag": "ABX9TyPTBQTJTWhN8g+K5ZPGAZk5",
      "include_colab_link": true
    },
    "kernelspec": {
      "name": "python3",
      "display_name": "Python 3"
    },
    "language_info": {
      "name": "python"
    }
  },
  "cells": [
    {
      "cell_type": "markdown",
      "metadata": {
        "id": "view-in-github",
        "colab_type": "text"
      },
      "source": [
        "<a href=\"https://colab.research.google.com/github/everaldos1lva/FPBGTI/blob/main/Aula_003_(Algoritmos)_19_03.ipynb\" target=\"_parent\"><img src=\"https://colab.research.google.com/assets/colab-badge.svg\" alt=\"Open In Colab\"/></a>"
      ]
    },
    {
      "cell_type": "markdown",
      "source": [
        "Aula de introdução aos Algorítimos"
      ],
      "metadata": {
        "id": "OKESCv_ZASA6"
      }
    },
    {
      "cell_type": "code",
      "execution_count": null,
      "metadata": {
        "colab": {
          "base_uri": "https://localhost:8080/"
        },
        "id": "OQuIvmng9HWI",
        "outputId": "872c0aac-52aa-4be5-dd52-b27e15e2dee3"
      },
      "outputs": [
        {
          "output_type": "stream",
          "name": "stdout",
          "text": [
            "eu é reker\n"
          ]
        }
      ],
      "source": [
        "print ('eu é reker')\n",
        "# Primeiro comando"
      ]
    },
    {
      "cell_type": "code",
      "source": [
        "#Segundo comando\n",
        "print(2+3-9+8*2)"
      ],
      "metadata": {
        "colab": {
          "base_uri": "https://localhost:8080/"
        },
        "id": "JpBA8HvBA1Ba",
        "outputId": "9003e1c1-59d1-4fb3-9f6b-62d63fe2c56c"
      },
      "execution_count": null,
      "outputs": [
        {
          "output_type": "stream",
          "name": "stdout",
          "text": [
            "12\n"
          ]
        }
      ]
    },
    {
      "cell_type": "markdown",
      "source": [],
      "metadata": {
        "id": "MHyH1uqmBs15"
      }
    },
    {
      "cell_type": "code",
      "source": [
        "# Variáveis\n",
        "nome = 'Everaldo'\n",
        "print('olá '+nome)"
      ],
      "metadata": {
        "colab": {
          "base_uri": "https://localhost:8080/"
        },
        "id": "TwQOIbp2Bwcx",
        "outputId": "ff5040a4-dcbe-4aff-9cc4-f948ada86c8c"
      },
      "execution_count": null,
      "outputs": [
        {
          "output_type": "stream",
          "name": "stdout",
          "text": [
            "olá Everaldo\n"
          ]
        }
      ]
    },
    {
      "cell_type": "code",
      "source": [
        "#Variáveis numéricas\n",
        "a = 42\n",
        "b = 10\n",
        "print (a-b)"
      ],
      "metadata": {
        "colab": {
          "base_uri": "https://localhost:8080/"
        },
        "id": "EpgxnSpMAlaa",
        "outputId": "70d094c2-527c-47e5-8f80-1cde1061a221"
      },
      "execution_count": null,
      "outputs": [
        {
          "output_type": "stream",
          "name": "stdout",
          "text": [
            "32\n"
          ]
        }
      ]
    },
    {
      "cell_type": "code",
      "source": [
        "#Variáveis numérica parte 2\n",
        "nota1 = 8\n",
        "nota2 = 7\n",
        "nota3 = 5\n",
        "media = (nota1 + nota2 + nota3) / 3\n",
        "print(media)"
      ],
      "metadata": {
        "colab": {
          "base_uri": "https://localhost:8080/"
        },
        "id": "47JvPfSlDBEy",
        "outputId": "dd14581c-b3e5-46ed-918c-cda2d1f56caf"
      },
      "execution_count": null,
      "outputs": [
        {
          "output_type": "stream",
          "name": "stdout",
          "text": [
            "6.666666666666667\n"
          ]
        }
      ]
    },
    {
      "cell_type": "markdown",
      "source": [],
      "metadata": {
        "id": "TCh55xHfAOGC"
      }
    },
    {
      "cell_type": "markdown",
      "source": [],
      "metadata": {
        "id": "5uyN208kANKT"
      }
    },
    {
      "cell_type": "markdown",
      "source": [],
      "metadata": {
        "id": "oDl5atbXyAfX"
      }
    },
    {
      "cell_type": "code",
      "source": [
        "nome = 'Josue' #String\n",
        "preco = 12.5 # float, double\n",
        "idade = 30 # int\n",
        "ehMaior = idade > 18 #Lógica ou booleanas George Boole"
      ],
      "metadata": {
        "id": "eyCIjPJbyCAm"
      },
      "execution_count": null,
      "outputs": []
    },
    {
      "cell_type": "code",
      "source": [
        "type(ehMaior)"
      ],
      "metadata": {
        "colab": {
          "base_uri": "https://localhost:8080/"
        },
        "id": "Q4kuG-Y0y5AN",
        "outputId": "2ef2c2cb-b76a-44fd-e059-45fcafeb4234"
      },
      "execution_count": null,
      "outputs": [
        {
          "output_type": "execute_result",
          "data": {
            "text/plain": [
              "bool"
            ]
          },
          "metadata": {},
          "execution_count": 10
        }
      ]
    },
    {
      "cell_type": "markdown",
      "source": [
        "Entrada de dados no notepad"
      ],
      "metadata": {
        "id": "_Sk3iTyS1oyw"
      }
    },
    {
      "cell_type": "code",
      "source": [
        "Time = input('Insira o nome do Time: ')\n",
        "print(Time)"
      ],
      "metadata": {
        "colab": {
          "base_uri": "https://localhost:8080/"
        },
        "id": "IvTMVLRI1r_g",
        "outputId": "7c652155-92d3-43f0-d07f-6c05c55699de"
      },
      "execution_count": null,
      "outputs": [
        {
          "output_type": "stream",
          "name": "stdout",
          "text": [
            "Insira o nome do Time: FLAMENGO\n",
            "FLAMENGO\n"
          ]
        }
      ]
    },
    {
      "cell_type": "code",
      "source": [
        "nome = input('Insira o nome do usuário:')\n",
        "print ('Seja bem-vindo', nome)"
      ],
      "metadata": {
        "colab": {
          "base_uri": "https://localhost:8080/"
        },
        "id": "LFt7NzkR3PDp",
        "outputId": "d8dd310d-d63d-4583-9d95-763dec62db8a"
      },
      "execution_count": null,
      "outputs": [
        {
          "output_type": "stream",
          "name": "stdout",
          "text": [
            "Insira o nome do usuário:Bebel\n",
            "Seja bem-vindo Bebel\n"
          ]
        }
      ]
    },
    {
      "cell_type": "code",
      "source": [
        "#Pede para inserir um número e retorna o dobro\n",
        "numero =int(input('insira um número'))\n",
        "print (numero * 2)"
      ],
      "metadata": {
        "colab": {
          "base_uri": "https://localhost:8080/"
        },
        "id": "wIu7pUR63O2y",
        "outputId": "b2d2619c-6ca6-45dd-df0b-7f475a642b17"
      },
      "execution_count": null,
      "outputs": [
        {
          "output_type": "stream",
          "name": "stdout",
          "text": [
            "insira um número12\n",
            "24\n"
          ]
        }
      ]
    },
    {
      "cell_type": "code",
      "source": [
        "#Pede para inserir um número e retornar a sua metade\n",
        "numero =int(input('Insira um número ') )\n",
        "print (numero / 2)"
      ],
      "metadata": {
        "colab": {
          "base_uri": "https://localhost:8080/"
        },
        "id": "9p9euzM_50ju",
        "outputId": "22708fbc-befd-46db-9cca-6c8d305298e6"
      },
      "execution_count": null,
      "outputs": [
        {
          "output_type": "stream",
          "name": "stdout",
          "text": [
            "Insira um número 6\n",
            "3.0\n"
          ]
        }
      ]
    },
    {
      "cell_type": "code",
      "source": [
        "#A Circunfeencia do circulo é medida pela formula\n",
        "#2 * pi * raio\n",
        "#Faça um algoritmo que pede o raio e retorna a circunferencia\n",
        "#use pi = 3.14\n",
        "raio = float(input('Insira o raio '))\n",
        "circunferencia = 2 * 3.14 * raio\n",
        "print(circunferencia)"
      ],
      "metadata": {
        "colab": {
          "base_uri": "https://localhost:8080/"
        },
        "id": "_DbedorI7G1u",
        "outputId": "904f97ad-f7dc-4240-c56a-4ce3b4a3d0b5"
      },
      "execution_count": null,
      "outputs": [
        {
          "output_type": "stream",
          "name": "stdout",
          "text": [
            "Insira o raio 8\n",
            "50.24\n"
          ]
        }
      ]
    },
    {
      "cell_type": "code",
      "source": [
        "# Solicita ao usuário a altura e o peso\n",
        "# Retorna o cálculo do IMC\n",
        "# peso / altura ao quadradro\n",
        "peso = float(input('peso '))\n",
        "altura = float(input('altura '))\n",
        "imc = peso / altura**2\n",
        "print ('O IMC é ', imc)"
      ],
      "metadata": {
        "colab": {
          "base_uri": "https://localhost:8080/"
        },
        "id": "SsKAByjh81D3",
        "outputId": "272fdbb8-6734-4e51-f41c-62b53923a8ae"
      },
      "execution_count": null,
      "outputs": [
        {
          "output_type": "stream",
          "name": "stdout",
          "text": [
            "peso 81\n",
            "altura 1.81\n",
            "O IMC é  24.724520008546747\n"
          ]
        }
      ]
    },
    {
      "cell_type": "code",
      "source": [
        "# Converter uma temperatura em graus Celsius para Kelvin\n",
        "# temperatura em celsius e soma 274\n",
        "\n",
        "temp = float(input('forneça a temperatura '))\n",
        "print (temp + 274)\n"
      ],
      "metadata": {
        "id": "64klhgwb_GYt"
      },
      "execution_count": null,
      "outputs": []
    },
    {
      "cell_type": "markdown",
      "source": [
        "#Estruturas de control If e Else"
      ],
      "metadata": {
        "id": "CcIcCVQrA5cR"
      }
    },
    {
      "cell_type": "code",
      "source": [
        "#Pede a idade da pessoa\n",
        "#Se for maior que de 18 anos\n",
        "# Está apto ao cocnurso público\n",
        "idade = int(input('Digite a idade '))\n",
        "if(idade >= 26):\n",
        "  print('Apto ao concurso')\n",
        "else:\n",
        "  print('Não está apto ')\n"
      ],
      "metadata": {
        "colab": {
          "base_uri": "https://localhost:8080/"
        },
        "id": "RcbD9h61Cea_",
        "outputId": "14347fdb-d61d-4910-8c10-69c8c8edfb98"
      },
      "execution_count": null,
      "outputs": [
        {
          "output_type": "stream",
          "name": "stdout",
          "text": [
            "Digite a idade 27\n",
            "Apto ao concurso\n"
          ]
        }
      ]
    },
    {
      "cell_type": "markdown",
      "source": [],
      "metadata": {
        "id": "E942tPoq803w"
      }
    },
    {
      "cell_type": "code",
      "source": [
        "#Classificador de números.\n",
        "#Recebe um número e diz se ele é positivo negativo ou zero\n",
        "num = int(input('Digite o numero: ' ))\n",
        "if (num > 0):\n",
        "  print('Positivo')\n",
        "elif(num < 0):\n",
        "  print('Negativo')\n",
        "else:\n",
        "  print('ZERO')"
      ],
      "metadata": {
        "colab": {
          "base_uri": "https://localhost:8080/"
        },
        "id": "eH756UZ9D3dg",
        "outputId": "1a25ebf9-1837-41ad-e727-f729489cf751"
      },
      "execution_count": null,
      "outputs": [
        {
          "output_type": "stream",
          "name": "stdout",
          "text": [
            "Digite o numero: 2\n",
            "Positivo\n"
          ]
        }
      ]
    },
    {
      "cell_type": "code",
      "source": [
        "#Recebe dois números\n",
        "#Diz qual é o maior\n",
        "#informa se eles forem iguais\n",
        "num1 = int(input('Digite o primeiro numero'))\n",
        "num2 = int(input('Digite o segundo numero'))\n",
        "if (num1 > num2):\n",
        "  print('o primeiro numero é maior ')\n",
        "elif(num2 > num1):\n",
        "  print('o segundo número é maior ')\n",
        "else:\n",
        "  print('são iguais')"
      ],
      "metadata": {
        "colab": {
          "base_uri": "https://localhost:8080/"
        },
        "id": "DjJSZsooFIs-",
        "outputId": "f11fc141-771b-4943-f8e5-4ed998c8aa07"
      },
      "execution_count": null,
      "outputs": [
        {
          "output_type": "stream",
          "name": "stdout",
          "text": [
            "Digite o primeiro numero19\n",
            "Digite o segundo numero12\n",
            "o primeiro numero é maior \n"
          ]
        }
      ]
    },
    {
      "cell_type": "code",
      "source": [
        "SE(alguma coisa for verdadeira)\n",
        "  então acontece algo\n",
        "SENAO\n",
        "  acontece outro algo\n",
        "  and or not"
      ],
      "metadata": {
        "id": "6bRJMQMC0yji"
      },
      "execution_count": null,
      "outputs": []
    },
    {
      "cell_type": "code",
      "source": [
        "#Se for Sábado e estiver fazendo sol, então vou à praia\n",
        "dia = 'sábado'\n",
        "clima = 'nublado'\n",
        "if (dia== 'sábado' and clima == 'sol'):\n",
        "  print('Vou á praia')\n",
        "else :\n",
        "  print('vou trabalhar')"
      ],
      "metadata": {
        "colab": {
          "base_uri": "https://localhost:8080/"
        },
        "id": "Z89OCGiw1W5k",
        "outputId": "37cdedb5-bedb-46de-f70d-e7fadb88c1be"
      },
      "execution_count": 3,
      "outputs": [
        {
          "output_type": "stream",
          "name": "stdout",
          "text": [
            "vou trabalhar\n"
          ]
        }
      ]
    },
    {
      "cell_type": "code",
      "source": [
        "#Em um jogo, um player encontra um baú\n",
        "#Se o player tiver uma chave e se colidir com o baú\n",
        "#ele libera um diamante.\n",
        "colidiu = True\n",
        "temChave = True\n",
        "\n",
        "if (colidiu and temChave):\n",
        "  print('Diamante')\n",
        "else:\n",
        "  print('nada a contece')"
      ],
      "metadata": {
        "colab": {
          "base_uri": "https://localhost:8080/"
        },
        "id": "5juexkbG5dQ2",
        "outputId": "47a4e6c4-900e-4b7c-a707-5137d72b0a00"
      },
      "execution_count": 7,
      "outputs": [
        {
          "output_type": "stream",
          "name": "stdout",
          "text": [
            "Diamante\n"
          ]
        }
      ]
    },
    {
      "cell_type": "code",
      "source": [
        "### Use INPUT\n",
        "### Recebe 3 notas do Aluno\n",
        "### Retorna a média\n",
        "### A média para passar é 7\n",
        "\n",
        "nota1 = float(input('Nota1 '))\n",
        "nota2 = float(input('Nota2 '))\n",
        "nota3 = float(input('Nota3 '))\n",
        "media = (nota1+nota2+nota3)/3\n",
        "\n",
        "if(media >= 7):\n",
        "  print (\"Aprovado, sua media é\",media)\n",
        "else:\n",
        "  print(\"Em recuperação, bobo\")"
      ],
      "metadata": {
        "id": "L2d_Af257xuY"
      },
      "execution_count": null,
      "outputs": []
    },
    {
      "cell_type": "code",
      "source": [
        "### Recebe 3 notas do Aluni\n",
        "### Retorna a média\n",
        "### A média para passar é 7\n",
        "### Se for repetente e tiver média menor que 7 já reprova direto\n",
        "### Se não for repetente, fica em recupeção\n",
        "\n",
        "nota1 = float(input('Nota1 '))\n",
        "nota2 = float(input('Nota2 '))\n",
        "nota3 = float(input('Nota3 '))\n",
        "media = (nota1+nota2+nota3)/3\n",
        "repetente = True\n",
        "\n",
        "if(media >= 7):\n",
        "  print (\"Aprovado, sua media é\",media)\n",
        "elif (media < 7 and repetente ):\n",
        "  print (\"Reprovado sem dó nem piedade\")\n",
        "else:\n",
        "  print(\"Em recuperação, bobo\")"
      ],
      "metadata": {
        "id": "KcB7Nkd1CEgy"
      },
      "execution_count": null,
      "outputs": []
    },
    {
      "cell_type": "code",
      "source": [
        "## verifica faixas etárias:\n",
        "\n",
        "#Criança: até 12 anos;\n",
        "##Adolescente: 13 a 17 anos;\n",
        "#Adulto: de 18 a 64;\n",
        "#Idoso: 65 anos ou mais.\n",
        "idade = int(input('Bote sua idade, otaro '))\n",
        "\n",
        "if (idade >= 65):\n",
        "  print ('Idoso')\n",
        "elif (idade >= 18):\n",
        "  print ('Adulto')\n",
        "elif (idade >= 13):\n",
        "  print ('Adolescente')\n",
        "else:\n",
        "  print('Criança')"
      ],
      "metadata": {
        "colab": {
          "base_uri": "https://localhost:8080/"
        },
        "id": "9zlisn2FGO_5",
        "outputId": "c1d54346-bc0b-4236-db4e-7a08a3937657"
      },
      "execution_count": 40,
      "outputs": [
        {
          "output_type": "stream",
          "name": "stdout",
          "text": [
            "Bote sua idade, otaro 24\n",
            "Adulto\n"
          ]
        }
      ]
    }
  ]
}